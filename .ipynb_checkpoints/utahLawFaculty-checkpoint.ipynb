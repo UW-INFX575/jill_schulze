{
 "metadata": {
  "name": "",
  "signature": "sha256:f3ff3e40fdd3da18af4451bb22de62877f114539107d4e933c97a0e18fd5aaed"
 },
 "nbformat": 3,
 "nbformat_minor": 0,
 "worksheets": [
  {
   "cells": [
    {
     "cell_type": "code",
     "collapsed": false,
     "input": [
      "# LOADING LIBRARIES\n",
      "from bs4 import BeautifulSoup\n",
      "from lxml import html\n",
      "import pandas as pd\n",
      "import numpy as np\n",
      "import urllib2\n",
      "import requests\n",
      "import re"
     ],
     "language": "python",
     "metadata": {},
     "outputs": [],
     "prompt_number": 1
    },
    {
     "cell_type": "code",
     "collapsed": false,
     "input": [
      "# MAKING SOME SOUP BROTH\n",
      "page = urllib2.urlopen('http://www.law.utah.edu/faculty/faculty-directory/').read()\n",
      "soup = BeautifulSoup(page)\n",
      "#print(soup.prettify())"
     ],
     "language": "python",
     "metadata": {},
     "outputs": [],
     "prompt_number": 2
    },
    {
     "cell_type": "code",
     "collapsed": false,
     "input": [
      "# FACULTY NAMES\n",
      "names = []\n",
      "for tag in soup.find_all(\"a\", target=\"_blank\"):\n",
      "    names.append(tag.get_text())\n",
      "\n",
      "# Print names in list form rather than blob form\n",
      "names = list(set(names))"
     ],
     "language": "python",
     "metadata": {},
     "outputs": [],
     "prompt_number": 3
    },
    {
     "cell_type": "code",
     "collapsed": false,
     "input": [
      "# SPLIT NAMES INTO FIRST AND LAST\n",
      "def split_reorder_name(full_name):\n",
      "    last = full_name.split()[0]\n",
      "    first = full_name.split()[-1]\n",
      "    return([last,first]) # swap the order of first and last name\n",
      " \n",
      "split_names = []\n",
      "for name in names:\n",
      "    temp_split_names = split_reorder_name(name)\n",
      "    split_names.append(temp_split_names)\n",
      "split_names.sort() # alphabetical order\n",
      "#split_names"
     ],
     "language": "python",
     "metadata": {},
     "outputs": [],
     "prompt_number": 50
    },
    {
     "cell_type": "code",
     "collapsed": false,
     "input": [
      "facultyschool = 'University of Utah'\n",
      "facultydept = 'S.J. Quinney College of Law'\n",
      "facultyyear = '2015'"
     ],
     "language": "python",
     "metadata": {},
     "outputs": [],
     "prompt_number": 36
    },
    {
     "cell_type": "code",
     "collapsed": false,
     "input": [
      "# MAKE A NAMES DF\n",
      "names_df = pd.DataFrame(split_names, columns=['firstnames','lastname'])\n",
      "#names_df"
     ],
     "language": "python",
     "metadata": {},
     "outputs": [],
     "prompt_number": 5
    },
    {
     "cell_type": "code",
     "collapsed": false,
     "input": [
      "# FACULTY URLS\n",
      "all_links = []\n",
      "for link in soup.findAll('a'):\n",
      "    if link.get('href') != None:\n",
      "        all_links.append(link.get('href'))\n",
      "#print all_links"
     ],
     "language": "python",
     "metadata": {},
     "outputs": [],
     "prompt_number": 6
    },
    {
     "cell_type": "code",
     "collapsed": false,
     "input": [
      "string_of_all_links = ','.join(all_links)\n",
      "#print string_of_all_links"
     ],
     "language": "python",
     "metadata": {},
     "outputs": [],
     "prompt_number": 7
    },
    {
     "cell_type": "code",
     "collapsed": false,
     "input": [
      "fac_links = re.findall('http://faculty.utah.edu/u+[0-9]{7}', string_of_all_links)\n",
      "fac_links = list(set(fac_links))\n",
      "#fac_links"
     ],
     "language": "python",
     "metadata": {},
     "outputs": [],
     "prompt_number": 8
    },
    {
     "cell_type": "code",
     "collapsed": false,
     "input": [
      "# Take a count of faculty links\n",
      "#len(fac_links)"
     ],
     "language": "python",
     "metadata": {},
     "outputs": [],
     "prompt_number": 9
    },
    {
     "cell_type": "code",
     "collapsed": false,
     "input": [
      "# FIND ED INFO IN FACULTY LINKS\n",
      "edu = []\n",
      "for url in fac_links:\n",
      "    temp_edu = []\n",
      "    fac_page = urllib2.urlopen(url).read()\n",
      "    fac_soup = BeautifulSoup(fac_page)\n",
      "    for line in fac_soup.find_all('li'):\n",
      "        if 'J.S.D.' in line.get_text():\n",
      "            temp_edu.append(line.get_text())\n",
      "        elif 'J.D.' in line.get_text():\n",
      "            temp_edu.append(line.get_text())\n",
      "            edu.append(temp_edu)\n",
      "#print edu"
     ],
     "language": "python",
     "metadata": {},
     "outputs": [],
     "prompt_number": 10
    },
    {
     "cell_type": "code",
     "collapsed": false,
     "input": [
      "degree_list = list(edu)\n",
      "#degree_list"
     ],
     "language": "python",
     "metadata": {},
     "outputs": [],
     "prompt_number": 11
    },
    {
     "cell_type": "code",
     "collapsed": false,
     "input": [
      "# TAKE OUT JUNK IN ED INFO\n",
      "x = str(degree_list)\n",
      "a = x.replace('\\\\', '')\n",
      "b = a.replace(\"u'\", \"\")\n",
      "cleaned_degree_string = b.replace(\"n'\", \"\")\n",
      "#cleaned_degree_string"
     ],
     "language": "python",
     "metadata": {},
     "outputs": [],
     "prompt_number": 12
    },
    {
     "cell_type": "code",
     "collapsed": false,
     "input": [
      "# SPLIT EDUCATION INTO YEAR & UNIVERSITY\n",
      "string_of_degrees = ''.join(cleaned_degree_string)\n",
      "#print string_of_degrees"
     ],
     "language": "python",
     "metadata": {},
     "outputs": [],
     "prompt_number": 13
    },
    {
     "cell_type": "code",
     "collapsed": false,
     "input": [
      "degrees = re.findall('J.D.', string_of_degrees)\n",
      "graddegree = list(degrees)\n",
      "graddegree_df = pd.DataFrame(graddegree)\n",
      "#print graddegree_df"
     ],
     "language": "python",
     "metadata": {},
     "outputs": [],
     "prompt_number": 14
    },
    {
     "cell_type": "code",
     "collapsed": false,
     "input": [
      "years = re.findall('[0-9]{4}', string_of_degrees)\n",
      "gradyear = list(set(years))\n",
      "gradyear_df = pd.DataFrame(gradyear)\n",
      "#print gradyear_df"
     ],
     "language": "python",
     "metadata": {},
     "outputs": [],
     "prompt_number": 15
    },
    {
     "cell_type": "code",
     "collapsed": false,
     "input": [
      "# LOAD DATA INTO DF\n",
      "df = pd.DataFrame(columns =['id', 'nametitle', 'firstnames', 'lastname', 'namesuffix', 'aliases', 'gradschool', 'graddegree', 'gradyear', 'facultyschool', 'facultytitle', 'facultydept', 'facultyyear'])\n",
      "index = ['id', 'nametitle', 'firstnames', 'lastname', 'namesuffix', 'aliases', 'gradschool', 'graddegree', 'gradyear', 'facultyschool', 'facultytitle', 'facultydept', 'facultyyear']\n",
      "final_df = df.append(names_df)\n",
      "#final_df"
     ],
     "language": "python",
     "metadata": {},
     "outputs": [],
     "prompt_number": 49
    },
    {
     "cell_type": "code",
     "collapsed": false,
     "input": [
      "#EXPORT TO CSV\n",
      "import csv\n",
      "\n",
      "final_df.to_csv(path_or_buf='/Users/jillschulze/Desktop/final_df.csv', sep=',', na_rep='', float_format=None, columns=['id', 'nametitle', 'firstnames', 'lastname', 'namesuffix', 'aliases', 'gradschool', 'graddegree', 'gradyear', 'facultyschool', 'facultytitle', 'facultydept', 'facultyyear'], header=True, index=True, index_label=None, mode='w', encoding=None, quoting=None, quotechar='\"', line_terminator='\\n', chunksize=None, tupleize_cols=False, date_format=None, doublequote=True, escapechar=None, decimal='.')"
     ],
     "language": "python",
     "metadata": {},
     "outputs": [],
     "prompt_number": 17
    }
   ],
   "metadata": {}
  }
 ]
}