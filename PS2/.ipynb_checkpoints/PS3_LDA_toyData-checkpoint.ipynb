{
 "metadata": {
  "name": "",
  "signature": "sha256:e81adadf419ee33d91b9ae27287dcc94968c6c457d19e74e3d95cf94b04cddfc"
 },
 "nbformat": 3,
 "nbformat_minor": 0,
 "worksheets": [
  {
   "cells": [
    {
     "cell_type": "heading",
     "level": 1,
     "metadata": {},
     "source": [
      "Problem Set 3: LDA"
     ]
    },
    {
     "cell_type": "code",
     "collapsed": false,
     "input": [
      "import logging, gensim, bz2\n",
      "from gensim import corpora, models, similarities\n",
      "import nltk\n",
      "from nltk.corpus import stopwords"
     ],
     "language": "python",
     "metadata": {},
     "outputs": [],
     "prompt_number": 60
    },
    {
     "cell_type": "code",
     "collapsed": false,
     "input": [
      "data_20 = open('6334220.txt', 'r')\n",
      "data_20.read()\n",
      "\n",
      "stopset = set(stopwords.words('english'))\n",
      "\n",
      "with open('6334220.txt', 'r') as text_file:\n",
      "    text_20 = text_file.read()\n",
      "    tokens_20 = nltk.word_tokenize(str(text))\n",
      "    tokens_20 = [w for w in tokens if not w in stopset]\n",
      "    print tokens_20"
     ],
     "language": "python",
     "metadata": {},
     "outputs": [
      {
       "output_type": "stream",
       "stream": "stdout",
       "text": [
        "['~~', '1', '.', 'A', 'whirlpool', 'jet', 'assembly', 'comprising', ';', 'Venturi', 'housing', 'water', 'inlet', 'air', 'inlet', 'generating', 'stream', 'mixed', 'water', 'air', 'aperture', 'wall', 'water-holding', 'enclosure', ';', 'non-rotatable', 'nozzle', 'tube', 'eyeball', 'positioned', 'concentrically', 'within', 'said', 'housing', 'fluid', 'communication', 'said', 'water', 'inlet', 'said', 'air', 'inlet', 'directing', 'said', 'stream', 'said', 'nozzle', 'tube', 'said', 'aperture', 'direction', 'determined', 'orientation', 'said', 'eyeball', ';', 'rotary', 'assembly', 'engaging', 'said', 'nozzle', 'tube', 'releasable', 'manner', 'selective', 'conversion', 'said', 'whirlpool', 'jet', 'assembly', 'rotary', 'configuration', 'directable', 'stationary', 'configuration', ',', 'said', 'rotary', 'assembly', 'said', 'rotary', 'configuration', 'concentrically', 'engaging', 'said', 'nozzle', 'tube', 'plurality', 'canted', 'apertures', 'passing', 'said', 'stream', 'generating', 'rotational', 'spin', 'said', 'rotary', 'assembly', 'spraying', 'water', 'air', 'circular', 'pattern', ',', 'said', 'rotary', 'assembly', 'said', 'directable', 'stationary', 'configuration', 'removed', 'said', 'nozzle', 'tube', '.', '2', '.', 'The', 'whirlpool', 'jet', 'assembly', 'recited', 'claim', '1', 'wherein', 'said', 'rotary', 'assembly', 'comprises', 'plurality', 'lugs', 'engaging', 'said', 'nozzle', 'tube', '.', '3', '.', 'The', 'whirlpool', 'jet', 'assembly', 'recited', 'claim', '1', 'wherein', 'said', 'rotary', 'assembly', 'comprises', 'divider', 'dividing', 'said', 'stream', 'respective', 'ones', 'said', 'canted', 'apertures', '.', '4', '.', 'The', 'whirlpool', 'jet', 'assembly', 'recited', 'claim', '1', 'comprising', 'flow', 'control', 'means', 'adjusting', 'amount', 'water', 'air', 'flowing', 'said', 'nozzle', 'tube', '.', '5', '.', 'The', 'whirlpool', 'jet', 'assembly', 'recited', 'claim', '1', 'upon', 'removal', 'said', 'rotary', 'assembly', ',', 'said', 'nozzle', 'tube', 'said', 'eyeball', 'may', 'oriented', 'selected', 'angle', 'relative', 'said', 'wall', 'aperture', '.', '6', '.', 'The', 'jet', 'assembly', 'recited', 'claim', '1', 'comprising', 'means', 'engaging', 'opposite', 'surfaces', 'water-holding', 'enclosure', 'perimeter', 'hole', 'said', 'enclosure', '.', '7', '.', 'A', 'whirlpool', 'jet', 'assembly', 'selectively', 'convertible', 'first', 'second', 'configurations', 'comprising', 'articulatable', 'non-rotating', 'nozzle', 'removable', 'rotary', 'face', ',', 'said', 'rotary', 'face', 'said', 'first', 'configuration', 'operably', 'coupled', 'said', 'nozzle', 'operation', 'said', 'whirlpool', 'jet', 'assembly', 'rotary', 'mode', ',', 'said', 'second', 'configuration', 'removed', 'said', 'nozzle', 'operation', 'said', 'whirlpool', 'jet', 'assembly', 'directable', 'stationary', 'mode', ',', 'nozzle', 'articulatable', 'directing', 'stream', 'water', 'air', 'selected', 'spot', ',', 'rotary', 'face', 'rotation', 'apertures', 'directing', 'stream', 'water', 'air', 'region', ',', 'said', 'rotary', 'face', 'fluid', 'communication', 'said', 'nozzle', 'rotating', 'said', 'rotating', 'apertures', 'response', 'water', 'air', 'flow', 'said', 'nozzle', ',', 'said', 'nozzle', 'articulatable', 'upon', 'removal', 'said', 'rotary', 'face', 'said', 'whirlpool', 'jet', 'assembly', '.', '8', '.', 'The', 'jet', 'assembly', 'recited', 'claim', '7', 'wherein', 'said', 'rotary', 'face', 'attached', 'said', 'nozzle', 'plurality', 'lugs', 'engage', 'end', 'said', 'nozzle', '.', '9', '.', 'The', 'jet', 'assembly', 'recited', 'claim', '7', 'wherein', 'said', 'rotary', 'face', 'comprises', 'divider', 'dividing', 'said', 'stream', 'water', 'air', 'separated', 'streams', 'flow', 'respective', 'rotating', 'apertures', 'impart', 'rotational', 'torque', 'said', 'rotary', 'face', '.', '10', '.', 'The', 'whirlpool', 'jet', 'assembly', 'recited', 'claim', '7', 'comprising', 'flow', 'control', 'means', 'adjusting', 'amount', 'water', 'air', 'flowing', 'said', 'nozzle', '.', '11', '.', 'The', 'jet', 'assembly', 'recited', 'claim', '7', 'comprising', 'means', 'engaging', 'opposite', 'surfaces', 'water-holding', 'enclosure', 'perimeter', 'hole', 'said', 'enclosure', '.', '12', '.', 'The', 'whirlpool', 'jet', 'assembly', 'recited', 'claim', '7', 'upon', 'removal', 'said', 'rotary', 'assembly', ',', 'said', 'nozzle', 'tube', 'said', 'eyeball', 'may', 'oriented', 'selected', 'angle', 'relative', 'said', 'wall', 'aperture', '.']\n"
       ]
      }
     ],
     "prompt_number": 37
    },
    {
     "cell_type": "code",
     "collapsed": false,
     "input": [
      "data_21 = open('6334221.txt', 'r')\n",
      "data_21.read()\n",
      "\n",
      "stopset = set(stopwords.words('english'))\n",
      "\n",
      "with open('6334221.txt', 'r') as text_file:\n",
      "    text_21 = text_file.read()\n",
      "    tokens_21 = nltk.word_tokenize(str(text))\n",
      "    tokens_21 = [w for w in tokens if not w in stopset]\n",
      "    print tokens_21"
     ],
     "language": "python",
     "metadata": {},
     "outputs": [
      {
       "output_type": "stream",
       "stream": "stdout",
       "text": [
        "['~~', '1', '.', 'A', 'whirlpool', 'jet', 'assembly', 'comprising', ';', 'Venturi', 'housing', 'water', 'inlet', 'air', 'inlet', 'generating', 'stream', 'mixed', 'water', 'air', 'aperture', 'wall', 'water-holding', 'enclosure', ';', 'non-rotatable', 'nozzle', 'tube', 'eyeball', 'positioned', 'concentrically', 'within', 'said', 'housing', 'fluid', 'communication', 'said', 'water', 'inlet', 'said', 'air', 'inlet', 'directing', 'said', 'stream', 'said', 'nozzle', 'tube', 'said', 'aperture', 'direction', 'determined', 'orientation', 'said', 'eyeball', ';', 'rotary', 'assembly', 'engaging', 'said', 'nozzle', 'tube', 'releasable', 'manner', 'selective', 'conversion', 'said', 'whirlpool', 'jet', 'assembly', 'rotary', 'configuration', 'directable', 'stationary', 'configuration', ',', 'said', 'rotary', 'assembly', 'said', 'rotary', 'configuration', 'concentrically', 'engaging', 'said', 'nozzle', 'tube', 'plurality', 'canted', 'apertures', 'passing', 'said', 'stream', 'generating', 'rotational', 'spin', 'said', 'rotary', 'assembly', 'spraying', 'water', 'air', 'circular', 'pattern', ',', 'said', 'rotary', 'assembly', 'said', 'directable', 'stationary', 'configuration', 'removed', 'said', 'nozzle', 'tube', '.', '2', '.', 'The', 'whirlpool', 'jet', 'assembly', 'recited', 'claim', '1', 'wherein', 'said', 'rotary', 'assembly', 'comprises', 'plurality', 'lugs', 'engaging', 'said', 'nozzle', 'tube', '.', '3', '.', 'The', 'whirlpool', 'jet', 'assembly', 'recited', 'claim', '1', 'wherein', 'said', 'rotary', 'assembly', 'comprises', 'divider', 'dividing', 'said', 'stream', 'respective', 'ones', 'said', 'canted', 'apertures', '.', '4', '.', 'The', 'whirlpool', 'jet', 'assembly', 'recited', 'claim', '1', 'comprising', 'flow', 'control', 'means', 'adjusting', 'amount', 'water', 'air', 'flowing', 'said', 'nozzle', 'tube', '.', '5', '.', 'The', 'whirlpool', 'jet', 'assembly', 'recited', 'claim', '1', 'upon', 'removal', 'said', 'rotary', 'assembly', ',', 'said', 'nozzle', 'tube', 'said', 'eyeball', 'may', 'oriented', 'selected', 'angle', 'relative', 'said', 'wall', 'aperture', '.', '6', '.', 'The', 'jet', 'assembly', 'recited', 'claim', '1', 'comprising', 'means', 'engaging', 'opposite', 'surfaces', 'water-holding', 'enclosure', 'perimeter', 'hole', 'said', 'enclosure', '.', '7', '.', 'A', 'whirlpool', 'jet', 'assembly', 'selectively', 'convertible', 'first', 'second', 'configurations', 'comprising', 'articulatable', 'non-rotating', 'nozzle', 'removable', 'rotary', 'face', ',', 'said', 'rotary', 'face', 'said', 'first', 'configuration', 'operably', 'coupled', 'said', 'nozzle', 'operation', 'said', 'whirlpool', 'jet', 'assembly', 'rotary', 'mode', ',', 'said', 'second', 'configuration', 'removed', 'said', 'nozzle', 'operation', 'said', 'whirlpool', 'jet', 'assembly', 'directable', 'stationary', 'mode', ',', 'nozzle', 'articulatable', 'directing', 'stream', 'water', 'air', 'selected', 'spot', ',', 'rotary', 'face', 'rotation', 'apertures', 'directing', 'stream', 'water', 'air', 'region', ',', 'said', 'rotary', 'face', 'fluid', 'communication', 'said', 'nozzle', 'rotating', 'said', 'rotating', 'apertures', 'response', 'water', 'air', 'flow', 'said', 'nozzle', ',', 'said', 'nozzle', 'articulatable', 'upon', 'removal', 'said', 'rotary', 'face', 'said', 'whirlpool', 'jet', 'assembly', '.', '8', '.', 'The', 'jet', 'assembly', 'recited', 'claim', '7', 'wherein', 'said', 'rotary', 'face', 'attached', 'said', 'nozzle', 'plurality', 'lugs', 'engage', 'end', 'said', 'nozzle', '.', '9', '.', 'The', 'jet', 'assembly', 'recited', 'claim', '7', 'wherein', 'said', 'rotary', 'face', 'comprises', 'divider', 'dividing', 'said', 'stream', 'water', 'air', 'separated', 'streams', 'flow', 'respective', 'rotating', 'apertures', 'impart', 'rotational', 'torque', 'said', 'rotary', 'face', '.', '10', '.', 'The', 'whirlpool', 'jet', 'assembly', 'recited', 'claim', '7', 'comprising', 'flow', 'control', 'means', 'adjusting', 'amount', 'water', 'air', 'flowing', 'said', 'nozzle', '.', '11', '.', 'The', 'jet', 'assembly', 'recited', 'claim', '7', 'comprising', 'means', 'engaging', 'opposite', 'surfaces', 'water-holding', 'enclosure', 'perimeter', 'hole', 'said', 'enclosure', '.', '12', '.', 'The', 'whirlpool', 'jet', 'assembly', 'recited', 'claim', '7', 'upon', 'removal', 'said', 'rotary', 'assembly', ',', 'said', 'nozzle', 'tube', 'said', 'eyeball', 'may', 'oriented', 'selected', 'angle', 'relative', 'said', 'wall', 'aperture', '.']\n"
       ]
      }
     ],
     "prompt_number": 38
    },
    {
     "cell_type": "code",
     "collapsed": false,
     "input": [
      "data_22 = open('6334222.txt', 'r')\n",
      "data_22.read()\n",
      "\n",
      "stopset = set(stopwords.words('english'))\n",
      "\n",
      "with open('6334222.txt', 'r') as text_file:\n",
      "    text_22 = text_file.read()\n",
      "    tokens_22 = nltk.word_tokenize(str(text))\n",
      "    tokens_22 = [w for w in tokens if not w in stopset]\n",
      "    print tokens_22"
     ],
     "language": "python",
     "metadata": {},
     "outputs": [
      {
       "output_type": "stream",
       "stream": "stdout",
       "text": [
        "['~~', '1', '.', 'A', 'whirlpool', 'jet', 'assembly', 'comprising', ';', 'Venturi', 'housing', 'water', 'inlet', 'air', 'inlet', 'generating', 'stream', 'mixed', 'water', 'air', 'aperture', 'wall', 'water-holding', 'enclosure', ';', 'non-rotatable', 'nozzle', 'tube', 'eyeball', 'positioned', 'concentrically', 'within', 'said', 'housing', 'fluid', 'communication', 'said', 'water', 'inlet', 'said', 'air', 'inlet', 'directing', 'said', 'stream', 'said', 'nozzle', 'tube', 'said', 'aperture', 'direction', 'determined', 'orientation', 'said', 'eyeball', ';', 'rotary', 'assembly', 'engaging', 'said', 'nozzle', 'tube', 'releasable', 'manner', 'selective', 'conversion', 'said', 'whirlpool', 'jet', 'assembly', 'rotary', 'configuration', 'directable', 'stationary', 'configuration', ',', 'said', 'rotary', 'assembly', 'said', 'rotary', 'configuration', 'concentrically', 'engaging', 'said', 'nozzle', 'tube', 'plurality', 'canted', 'apertures', 'passing', 'said', 'stream', 'generating', 'rotational', 'spin', 'said', 'rotary', 'assembly', 'spraying', 'water', 'air', 'circular', 'pattern', ',', 'said', 'rotary', 'assembly', 'said', 'directable', 'stationary', 'configuration', 'removed', 'said', 'nozzle', 'tube', '.', '2', '.', 'The', 'whirlpool', 'jet', 'assembly', 'recited', 'claim', '1', 'wherein', 'said', 'rotary', 'assembly', 'comprises', 'plurality', 'lugs', 'engaging', 'said', 'nozzle', 'tube', '.', '3', '.', 'The', 'whirlpool', 'jet', 'assembly', 'recited', 'claim', '1', 'wherein', 'said', 'rotary', 'assembly', 'comprises', 'divider', 'dividing', 'said', 'stream', 'respective', 'ones', 'said', 'canted', 'apertures', '.', '4', '.', 'The', 'whirlpool', 'jet', 'assembly', 'recited', 'claim', '1', 'comprising', 'flow', 'control', 'means', 'adjusting', 'amount', 'water', 'air', 'flowing', 'said', 'nozzle', 'tube', '.', '5', '.', 'The', 'whirlpool', 'jet', 'assembly', 'recited', 'claim', '1', 'upon', 'removal', 'said', 'rotary', 'assembly', ',', 'said', 'nozzle', 'tube', 'said', 'eyeball', 'may', 'oriented', 'selected', 'angle', 'relative', 'said', 'wall', 'aperture', '.', '6', '.', 'The', 'jet', 'assembly', 'recited', 'claim', '1', 'comprising', 'means', 'engaging', 'opposite', 'surfaces', 'water-holding', 'enclosure', 'perimeter', 'hole', 'said', 'enclosure', '.', '7', '.', 'A', 'whirlpool', 'jet', 'assembly', 'selectively', 'convertible', 'first', 'second', 'configurations', 'comprising', 'articulatable', 'non-rotating', 'nozzle', 'removable', 'rotary', 'face', ',', 'said', 'rotary', 'face', 'said', 'first', 'configuration', 'operably', 'coupled', 'said', 'nozzle', 'operation', 'said', 'whirlpool', 'jet', 'assembly', 'rotary', 'mode', ',', 'said', 'second', 'configuration', 'removed', 'said', 'nozzle', 'operation', 'said', 'whirlpool', 'jet', 'assembly', 'directable', 'stationary', 'mode', ',', 'nozzle', 'articulatable', 'directing', 'stream', 'water', 'air', 'selected', 'spot', ',', 'rotary', 'face', 'rotation', 'apertures', 'directing', 'stream', 'water', 'air', 'region', ',', 'said', 'rotary', 'face', 'fluid', 'communication', 'said', 'nozzle', 'rotating', 'said', 'rotating', 'apertures', 'response', 'water', 'air', 'flow', 'said', 'nozzle', ',', 'said', 'nozzle', 'articulatable', 'upon', 'removal', 'said', 'rotary', 'face', 'said', 'whirlpool', 'jet', 'assembly', '.', '8', '.', 'The', 'jet', 'assembly', 'recited', 'claim', '7', 'wherein', 'said', 'rotary', 'face', 'attached', 'said', 'nozzle', 'plurality', 'lugs', 'engage', 'end', 'said', 'nozzle', '.', '9', '.', 'The', 'jet', 'assembly', 'recited', 'claim', '7', 'wherein', 'said', 'rotary', 'face', 'comprises', 'divider', 'dividing', 'said', 'stream', 'water', 'air', 'separated', 'streams', 'flow', 'respective', 'rotating', 'apertures', 'impart', 'rotational', 'torque', 'said', 'rotary', 'face', '.', '10', '.', 'The', 'whirlpool', 'jet', 'assembly', 'recited', 'claim', '7', 'comprising', 'flow', 'control', 'means', 'adjusting', 'amount', 'water', 'air', 'flowing', 'said', 'nozzle', '.', '11', '.', 'The', 'jet', 'assembly', 'recited', 'claim', '7', 'comprising', 'means', 'engaging', 'opposite', 'surfaces', 'water-holding', 'enclosure', 'perimeter', 'hole', 'said', 'enclosure', '.', '12', '.', 'The', 'whirlpool', 'jet', 'assembly', 'recited', 'claim', '7', 'upon', 'removal', 'said', 'rotary', 'assembly', ',', 'said', 'nozzle', 'tube', 'said', 'eyeball', 'may', 'oriented', 'selected', 'angle', 'relative', 'said', 'wall', 'aperture', '.']\n"
       ]
      }
     ],
     "prompt_number": 39
    },
    {
     "cell_type": "code",
     "collapsed": false,
     "input": [
      "data_23 = open('6334223.txt', 'r')\n",
      "data_23.read()\n",
      "\n",
      "stopset = set(stopwords.words('english'))\n",
      "\n",
      "with open('6334223.txt', 'r') as text_file:\n",
      "    text_23 = text_file.read()\n",
      "    tokens_23 = nltk.word_tokenize(str(text))\n",
      "    tokens_23 = [w for w in tokens if not w in stopset]\n",
      "    print tokens_23"
     ],
     "language": "python",
     "metadata": {},
     "outputs": [
      {
       "output_type": "stream",
       "stream": "stdout",
       "text": [
        "['~~', '1', '.', 'A', 'whirlpool', 'jet', 'assembly', 'comprising', ';', 'Venturi', 'housing', 'water', 'inlet', 'air', 'inlet', 'generating', 'stream', 'mixed', 'water', 'air', 'aperture', 'wall', 'water-holding', 'enclosure', ';', 'non-rotatable', 'nozzle', 'tube', 'eyeball', 'positioned', 'concentrically', 'within', 'said', 'housing', 'fluid', 'communication', 'said', 'water', 'inlet', 'said', 'air', 'inlet', 'directing', 'said', 'stream', 'said', 'nozzle', 'tube', 'said', 'aperture', 'direction', 'determined', 'orientation', 'said', 'eyeball', ';', 'rotary', 'assembly', 'engaging', 'said', 'nozzle', 'tube', 'releasable', 'manner', 'selective', 'conversion', 'said', 'whirlpool', 'jet', 'assembly', 'rotary', 'configuration', 'directable', 'stationary', 'configuration', ',', 'said', 'rotary', 'assembly', 'said', 'rotary', 'configuration', 'concentrically', 'engaging', 'said', 'nozzle', 'tube', 'plurality', 'canted', 'apertures', 'passing', 'said', 'stream', 'generating', 'rotational', 'spin', 'said', 'rotary', 'assembly', 'spraying', 'water', 'air', 'circular', 'pattern', ',', 'said', 'rotary', 'assembly', 'said', 'directable', 'stationary', 'configuration', 'removed', 'said', 'nozzle', 'tube', '.', '2', '.', 'The', 'whirlpool', 'jet', 'assembly', 'recited', 'claim', '1', 'wherein', 'said', 'rotary', 'assembly', 'comprises', 'plurality', 'lugs', 'engaging', 'said', 'nozzle', 'tube', '.', '3', '.', 'The', 'whirlpool', 'jet', 'assembly', 'recited', 'claim', '1', 'wherein', 'said', 'rotary', 'assembly', 'comprises', 'divider', 'dividing', 'said', 'stream', 'respective', 'ones', 'said', 'canted', 'apertures', '.', '4', '.', 'The', 'whirlpool', 'jet', 'assembly', 'recited', 'claim', '1', 'comprising', 'flow', 'control', 'means', 'adjusting', 'amount', 'water', 'air', 'flowing', 'said', 'nozzle', 'tube', '.', '5', '.', 'The', 'whirlpool', 'jet', 'assembly', 'recited', 'claim', '1', 'upon', 'removal', 'said', 'rotary', 'assembly', ',', 'said', 'nozzle', 'tube', 'said', 'eyeball', 'may', 'oriented', 'selected', 'angle', 'relative', 'said', 'wall', 'aperture', '.', '6', '.', 'The', 'jet', 'assembly', 'recited', 'claim', '1', 'comprising', 'means', 'engaging', 'opposite', 'surfaces', 'water-holding', 'enclosure', 'perimeter', 'hole', 'said', 'enclosure', '.', '7', '.', 'A', 'whirlpool', 'jet', 'assembly', 'selectively', 'convertible', 'first', 'second', 'configurations', 'comprising', 'articulatable', 'non-rotating', 'nozzle', 'removable', 'rotary', 'face', ',', 'said', 'rotary', 'face', 'said', 'first', 'configuration', 'operably', 'coupled', 'said', 'nozzle', 'operation', 'said', 'whirlpool', 'jet', 'assembly', 'rotary', 'mode', ',', 'said', 'second', 'configuration', 'removed', 'said', 'nozzle', 'operation', 'said', 'whirlpool', 'jet', 'assembly', 'directable', 'stationary', 'mode', ',', 'nozzle', 'articulatable', 'directing', 'stream', 'water', 'air', 'selected', 'spot', ',', 'rotary', 'face', 'rotation', 'apertures', 'directing', 'stream', 'water', 'air', 'region', ',', 'said', 'rotary', 'face', 'fluid', 'communication', 'said', 'nozzle', 'rotating', 'said', 'rotating', 'apertures', 'response', 'water', 'air', 'flow', 'said', 'nozzle', ',', 'said', 'nozzle', 'articulatable', 'upon', 'removal', 'said', 'rotary', 'face', 'said', 'whirlpool', 'jet', 'assembly', '.', '8', '.', 'The', 'jet', 'assembly', 'recited', 'claim', '7', 'wherein', 'said', 'rotary', 'face', 'attached', 'said', 'nozzle', 'plurality', 'lugs', 'engage', 'end', 'said', 'nozzle', '.', '9', '.', 'The', 'jet', 'assembly', 'recited', 'claim', '7', 'wherein', 'said', 'rotary', 'face', 'comprises', 'divider', 'dividing', 'said', 'stream', 'water', 'air', 'separated', 'streams', 'flow', 'respective', 'rotating', 'apertures', 'impart', 'rotational', 'torque', 'said', 'rotary', 'face', '.', '10', '.', 'The', 'whirlpool', 'jet', 'assembly', 'recited', 'claim', '7', 'comprising', 'flow', 'control', 'means', 'adjusting', 'amount', 'water', 'air', 'flowing', 'said', 'nozzle', '.', '11', '.', 'The', 'jet', 'assembly', 'recited', 'claim', '7', 'comprising', 'means', 'engaging', 'opposite', 'surfaces', 'water-holding', 'enclosure', 'perimeter', 'hole', 'said', 'enclosure', '.', '12', '.', 'The', 'whirlpool', 'jet', 'assembly', 'recited', 'claim', '7', 'upon', 'removal', 'said', 'rotary', 'assembly', ',', 'said', 'nozzle', 'tube', 'said', 'eyeball', 'may', 'oriented', 'selected', 'angle', 'relative', 'said', 'wall', 'aperture', '.']\n"
       ]
      }
     ],
     "prompt_number": 40
    },
    {
     "cell_type": "code",
     "collapsed": false,
     "input": [
      "data_24 = open('6334224.txt', 'r')\n",
      "data_24.read()\n",
      "\n",
      "stopset = set(stopwords.words('english'))\n",
      "\n",
      "with open('6334224.txt', 'r') as text_file:\n",
      "    text_24 = text_file.read()\n",
      "    tokens_24 = nltk.word_tokenize(str(text))\n",
      "    tokens_24 = [w for w in tokens if not w in stopset]\n",
      "    print tokens_24"
     ],
     "language": "python",
     "metadata": {},
     "outputs": [
      {
       "output_type": "stream",
       "stream": "stdout",
       "text": [
        "['~~', '1', '.', 'A', 'whirlpool', 'jet', 'assembly', 'comprising', ';', 'Venturi', 'housing', 'water', 'inlet', 'air', 'inlet', 'generating', 'stream', 'mixed', 'water', 'air', 'aperture', 'wall', 'water-holding', 'enclosure', ';', 'non-rotatable', 'nozzle', 'tube', 'eyeball', 'positioned', 'concentrically', 'within', 'said', 'housing', 'fluid', 'communication', 'said', 'water', 'inlet', 'said', 'air', 'inlet', 'directing', 'said', 'stream', 'said', 'nozzle', 'tube', 'said', 'aperture', 'direction', 'determined', 'orientation', 'said', 'eyeball', ';', 'rotary', 'assembly', 'engaging', 'said', 'nozzle', 'tube', 'releasable', 'manner', 'selective', 'conversion', 'said', 'whirlpool', 'jet', 'assembly', 'rotary', 'configuration', 'directable', 'stationary', 'configuration', ',', 'said', 'rotary', 'assembly', 'said', 'rotary', 'configuration', 'concentrically', 'engaging', 'said', 'nozzle', 'tube', 'plurality', 'canted', 'apertures', 'passing', 'said', 'stream', 'generating', 'rotational', 'spin', 'said', 'rotary', 'assembly', 'spraying', 'water', 'air', 'circular', 'pattern', ',', 'said', 'rotary', 'assembly', 'said', 'directable', 'stationary', 'configuration', 'removed', 'said', 'nozzle', 'tube', '.', '2', '.', 'The', 'whirlpool', 'jet', 'assembly', 'recited', 'claim', '1', 'wherein', 'said', 'rotary', 'assembly', 'comprises', 'plurality', 'lugs', 'engaging', 'said', 'nozzle', 'tube', '.', '3', '.', 'The', 'whirlpool', 'jet', 'assembly', 'recited', 'claim', '1', 'wherein', 'said', 'rotary', 'assembly', 'comprises', 'divider', 'dividing', 'said', 'stream', 'respective', 'ones', 'said', 'canted', 'apertures', '.', '4', '.', 'The', 'whirlpool', 'jet', 'assembly', 'recited', 'claim', '1', 'comprising', 'flow', 'control', 'means', 'adjusting', 'amount', 'water', 'air', 'flowing', 'said', 'nozzle', 'tube', '.', '5', '.', 'The', 'whirlpool', 'jet', 'assembly', 'recited', 'claim', '1', 'upon', 'removal', 'said', 'rotary', 'assembly', ',', 'said', 'nozzle', 'tube', 'said', 'eyeball', 'may', 'oriented', 'selected', 'angle', 'relative', 'said', 'wall', 'aperture', '.', '6', '.', 'The', 'jet', 'assembly', 'recited', 'claim', '1', 'comprising', 'means', 'engaging', 'opposite', 'surfaces', 'water-holding', 'enclosure', 'perimeter', 'hole', 'said', 'enclosure', '.', '7', '.', 'A', 'whirlpool', 'jet', 'assembly', 'selectively', 'convertible', 'first', 'second', 'configurations', 'comprising', 'articulatable', 'non-rotating', 'nozzle', 'removable', 'rotary', 'face', ',', 'said', 'rotary', 'face', 'said', 'first', 'configuration', 'operably', 'coupled', 'said', 'nozzle', 'operation', 'said', 'whirlpool', 'jet', 'assembly', 'rotary', 'mode', ',', 'said', 'second', 'configuration', 'removed', 'said', 'nozzle', 'operation', 'said', 'whirlpool', 'jet', 'assembly', 'directable', 'stationary', 'mode', ',', 'nozzle', 'articulatable', 'directing', 'stream', 'water', 'air', 'selected', 'spot', ',', 'rotary', 'face', 'rotation', 'apertures', 'directing', 'stream', 'water', 'air', 'region', ',', 'said', 'rotary', 'face', 'fluid', 'communication', 'said', 'nozzle', 'rotating', 'said', 'rotating', 'apertures', 'response', 'water', 'air', 'flow', 'said', 'nozzle', ',', 'said', 'nozzle', 'articulatable', 'upon', 'removal', 'said', 'rotary', 'face', 'said', 'whirlpool', 'jet', 'assembly', '.', '8', '.', 'The', 'jet', 'assembly', 'recited', 'claim', '7', 'wherein', 'said', 'rotary', 'face', 'attached', 'said', 'nozzle', 'plurality', 'lugs', 'engage', 'end', 'said', 'nozzle', '.', '9', '.', 'The', 'jet', 'assembly', 'recited', 'claim', '7', 'wherein', 'said', 'rotary', 'face', 'comprises', 'divider', 'dividing', 'said', 'stream', 'water', 'air', 'separated', 'streams', 'flow', 'respective', 'rotating', 'apertures', 'impart', 'rotational', 'torque', 'said', 'rotary', 'face', '.', '10', '.', 'The', 'whirlpool', 'jet', 'assembly', 'recited', 'claim', '7', 'comprising', 'flow', 'control', 'means', 'adjusting', 'amount', 'water', 'air', 'flowing', 'said', 'nozzle', '.', '11', '.', 'The', 'jet', 'assembly', 'recited', 'claim', '7', 'comprising', 'means', 'engaging', 'opposite', 'surfaces', 'water-holding', 'enclosure', 'perimeter', 'hole', 'said', 'enclosure', '.', '12', '.', 'The', 'whirlpool', 'jet', 'assembly', 'recited', 'claim', '7', 'upon', 'removal', 'said', 'rotary', 'assembly', ',', 'said', 'nozzle', 'tube', 'said', 'eyeball', 'may', 'oriented', 'selected', 'angle', 'relative', 'said', 'wall', 'aperture', '.']\n"
       ]
      }
     ],
     "prompt_number": 41
    },
    {
     "cell_type": "code",
     "collapsed": false,
     "input": [
      "texts = [tokens_20, tokens_21, tokens_22, tokens_23, tokens_24]"
     ],
     "language": "python",
     "metadata": {},
     "outputs": [],
     "prompt_number": 44
    },
    {
     "cell_type": "code",
     "collapsed": false,
     "input": [
      "# remove words that appear only once\n",
      "from collections import defaultdict\n",
      "frequency = defaultdict(int)\n",
      "for text in texts:\n",
      "     for token in text:\n",
      "         frequency[token] += 1\n",
      "\n",
      "texts = [[token for token in text if frequency[token] > 1]\n",
      "          for text in texts]\n",
      "\n",
      "from pprint import pprint   # pretty-printer\n",
      "print(texts)"
     ],
     "language": "python",
     "metadata": {},
     "outputs": [
      {
       "output_type": "stream",
       "stream": "stdout",
       "text": [
        "[['~~', '1', '.', 'A', 'whirlpool', 'jet', 'assembly', 'comprising', ';', 'Venturi', 'housing', 'water', 'inlet', 'air', 'inlet', 'generating', 'stream', 'mixed', 'water', 'air', 'aperture', 'wall', 'water-holding', 'enclosure', ';', 'non-rotatable', 'nozzle', 'tube', 'eyeball', 'positioned', 'concentrically', 'within', 'said', 'housing', 'fluid', 'communication', 'said', 'water', 'inlet', 'said', 'air', 'inlet', 'directing', 'said', 'stream', 'said', 'nozzle', 'tube', 'said', 'aperture', 'direction', 'determined', 'orientation', 'said', 'eyeball', ';', 'rotary', 'assembly', 'engaging', 'said', 'nozzle', 'tube', 'releasable', 'manner', 'selective', 'conversion', 'said', 'whirlpool', 'jet', 'assembly', 'rotary', 'configuration', 'directable', 'stationary', 'configuration', ',', 'said', 'rotary', 'assembly', 'said', 'rotary', 'configuration', 'concentrically', 'engaging', 'said', 'nozzle', 'tube', 'plurality', 'canted', 'apertures', 'passing', 'said', 'stream', 'generating', 'rotational', 'spin', 'said', 'rotary', 'assembly', 'spraying', 'water', 'air', 'circular', 'pattern', ',', 'said', 'rotary', 'assembly', 'said', 'directable', 'stationary', 'configuration', 'removed', 'said', 'nozzle', 'tube', '.', '2', '.', 'The', 'whirlpool', 'jet', 'assembly', 'recited', 'claim', '1', 'wherein', 'said', 'rotary', 'assembly', 'comprises', 'plurality', 'lugs', 'engaging', 'said', 'nozzle', 'tube', '.', '3', '.', 'The', 'whirlpool', 'jet', 'assembly', 'recited', 'claim', '1', 'wherein', 'said', 'rotary', 'assembly', 'comprises', 'divider', 'dividing', 'said', 'stream', 'respective', 'ones', 'said', 'canted', 'apertures', '.', '4', '.', 'The', 'whirlpool', 'jet', 'assembly', 'recited', 'claim', '1', 'comprising', 'flow', 'control', 'means', 'adjusting', 'amount', 'water', 'air', 'flowing', 'said', 'nozzle', 'tube', '.', '5', '.', 'The', 'whirlpool', 'jet', 'assembly', 'recited', 'claim', '1', 'upon', 'removal', 'said', 'rotary', 'assembly', ',', 'said', 'nozzle', 'tube', 'said', 'eyeball', 'may', 'oriented', 'selected', 'angle', 'relative', 'said', 'wall', 'aperture', '.', '6', '.', 'The', 'jet', 'assembly', 'recited', 'claim', '1', 'comprising', 'means', 'engaging', 'opposite', 'surfaces', 'water-holding', 'enclosure', 'perimeter', 'hole', 'said', 'enclosure', '.', '7', '.', 'A', 'whirlpool', 'jet', 'assembly', 'selectively', 'convertible', 'first', 'second', 'configurations', 'comprising', 'articulatable', 'non-rotating', 'nozzle', 'removable', 'rotary', 'face', ',', 'said', 'rotary', 'face', 'said', 'first', 'configuration', 'operably', 'coupled', 'said', 'nozzle', 'operation', 'said', 'whirlpool', 'jet', 'assembly', 'rotary', 'mode', ',', 'said', 'second', 'configuration', 'removed', 'said', 'nozzle', 'operation', 'said', 'whirlpool', 'jet', 'assembly', 'directable', 'stationary', 'mode', ',', 'nozzle', 'articulatable', 'directing', 'stream', 'water', 'air', 'selected', 'spot', ',', 'rotary', 'face', 'rotation', 'apertures', 'directing', 'stream', 'water', 'air', 'region', ',', 'said', 'rotary', 'face', 'fluid', 'communication', 'said', 'nozzle', 'rotating', 'said', 'rotating', 'apertures', 'response', 'water', 'air', 'flow', 'said', 'nozzle', ',', 'said', 'nozzle', 'articulatable', 'upon', 'removal', 'said', 'rotary', 'face', 'said', 'whirlpool', 'jet', 'assembly', '.', '8', '.', 'The', 'jet', 'assembly', 'recited', 'claim', '7', 'wherein', 'said', 'rotary', 'face', 'attached', 'said', 'nozzle', 'plurality', 'lugs', 'engage', 'end', 'said', 'nozzle', '.', '9', '.', 'The', 'jet', 'assembly', 'recited', 'claim', '7', 'wherein', 'said', 'rotary', 'face', 'comprises', 'divider', 'dividing', 'said', 'stream', 'water', 'air', 'separated', 'streams', 'flow', 'respective', 'rotating', 'apertures', 'impart', 'rotational', 'torque', 'said', 'rotary', 'face', '.', '10', '.', 'The', 'whirlpool', 'jet', 'assembly', 'recited', 'claim', '7', 'comprising', 'flow', 'control', 'means', 'adjusting', 'amount', 'water', 'air', 'flowing', 'said', 'nozzle', '.', '11', '.', 'The', 'jet', 'assembly', 'recited', 'claim', '7', 'comprising', 'means', 'engaging', 'opposite', 'surfaces', 'water-holding', 'enclosure', 'perimeter', 'hole', 'said', 'enclosure', '.', '12', '.', 'The', 'whirlpool', 'jet', 'assembly', 'recited', 'claim', '7', 'upon', 'removal', 'said', 'rotary', 'assembly', ',', 'said', 'nozzle', 'tube', 'said', 'eyeball', 'may', 'oriented', 'selected', 'angle', 'relative', 'said', 'wall', 'aperture', '.'], ['~~', '1', '.', 'A', 'whirlpool', 'jet', 'assembly', 'comprising', ';', 'Venturi', 'housing', 'water', 'inlet', 'air', 'inlet', 'generating', 'stream', 'mixed', 'water', 'air', 'aperture', 'wall', 'water-holding', 'enclosure', ';', 'non-rotatable', 'nozzle', 'tube', 'eyeball', 'positioned', 'concentrically', 'within', 'said', 'housing', 'fluid', 'communication', 'said', 'water', 'inlet', 'said', 'air', 'inlet', 'directing', 'said', 'stream', 'said', 'nozzle', 'tube', 'said', 'aperture', 'direction', 'determined', 'orientation', 'said', 'eyeball', ';', 'rotary', 'assembly', 'engaging', 'said', 'nozzle', 'tube', 'releasable', 'manner', 'selective', 'conversion', 'said', 'whirlpool', 'jet', 'assembly', 'rotary', 'configuration', 'directable', 'stationary', 'configuration', ',', 'said', 'rotary', 'assembly', 'said', 'rotary', 'configuration', 'concentrically', 'engaging', 'said', 'nozzle', 'tube', 'plurality', 'canted', 'apertures', 'passing', 'said', 'stream', 'generating', 'rotational', 'spin', 'said', 'rotary', 'assembly', 'spraying', 'water', 'air', 'circular', 'pattern', ',', 'said', 'rotary', 'assembly', 'said', 'directable', 'stationary', 'configuration', 'removed', 'said', 'nozzle', 'tube', '.', '2', '.', 'The', 'whirlpool', 'jet', 'assembly', 'recited', 'claim', '1', 'wherein', 'said', 'rotary', 'assembly', 'comprises', 'plurality', 'lugs', 'engaging', 'said', 'nozzle', 'tube', '.', '3', '.', 'The', 'whirlpool', 'jet', 'assembly', 'recited', 'claim', '1', 'wherein', 'said', 'rotary', 'assembly', 'comprises', 'divider', 'dividing', 'said', 'stream', 'respective', 'ones', 'said', 'canted', 'apertures', '.', '4', '.', 'The', 'whirlpool', 'jet', 'assembly', 'recited', 'claim', '1', 'comprising', 'flow', 'control', 'means', 'adjusting', 'amount', 'water', 'air', 'flowing', 'said', 'nozzle', 'tube', '.', '5', '.', 'The', 'whirlpool', 'jet', 'assembly', 'recited', 'claim', '1', 'upon', 'removal', 'said', 'rotary', 'assembly', ',', 'said', 'nozzle', 'tube', 'said', 'eyeball', 'may', 'oriented', 'selected', 'angle', 'relative', 'said', 'wall', 'aperture', '.', '6', '.', 'The', 'jet', 'assembly', 'recited', 'claim', '1', 'comprising', 'means', 'engaging', 'opposite', 'surfaces', 'water-holding', 'enclosure', 'perimeter', 'hole', 'said', 'enclosure', '.', '7', '.', 'A', 'whirlpool', 'jet', 'assembly', 'selectively', 'convertible', 'first', 'second', 'configurations', 'comprising', 'articulatable', 'non-rotating', 'nozzle', 'removable', 'rotary', 'face', ',', 'said', 'rotary', 'face', 'said', 'first', 'configuration', 'operably', 'coupled', 'said', 'nozzle', 'operation', 'said', 'whirlpool', 'jet', 'assembly', 'rotary', 'mode', ',', 'said', 'second', 'configuration', 'removed', 'said', 'nozzle', 'operation', 'said', 'whirlpool', 'jet', 'assembly', 'directable', 'stationary', 'mode', ',', 'nozzle', 'articulatable', 'directing', 'stream', 'water', 'air', 'selected', 'spot', ',', 'rotary', 'face', 'rotation', 'apertures', 'directing', 'stream', 'water', 'air', 'region', ',', 'said', 'rotary', 'face', 'fluid', 'communication', 'said', 'nozzle', 'rotating', 'said', 'rotating', 'apertures', 'response', 'water', 'air', 'flow', 'said', 'nozzle', ',', 'said', 'nozzle', 'articulatable', 'upon', 'removal', 'said', 'rotary', 'face', 'said', 'whirlpool', 'jet', 'assembly', '.', '8', '.', 'The', 'jet', 'assembly', 'recited', 'claim', '7', 'wherein', 'said', 'rotary', 'face', 'attached', 'said', 'nozzle', 'plurality', 'lugs', 'engage', 'end', 'said', 'nozzle', '.', '9', '.', 'The', 'jet', 'assembly', 'recited', 'claim', '7', 'wherein', 'said', 'rotary', 'face', 'comprises', 'divider', 'dividing', 'said', 'stream', 'water', 'air', 'separated', 'streams', 'flow', 'respective', 'rotating', 'apertures', 'impart', 'rotational', 'torque', 'said', 'rotary', 'face', '.', '10', '.', 'The', 'whirlpool', 'jet', 'assembly', 'recited', 'claim', '7', 'comprising', 'flow', 'control', 'means', 'adjusting', 'amount', 'water', 'air', 'flowing', 'said', 'nozzle', '.', '11', '.', 'The', 'jet', 'assembly', 'recited', 'claim', '7', 'comprising', 'means', 'engaging', 'opposite', 'surfaces', 'water-holding', 'enclosure', 'perimeter', 'hole', 'said', 'enclosure', '.', '12', '.', 'The', 'whirlpool', 'jet', 'assembly', 'recited', 'claim', '7', 'upon', 'removal', 'said', 'rotary', 'assembly', ',', 'said', 'nozzle', 'tube', 'said', 'eyeball', 'may', 'oriented', 'selected', 'angle', 'relative', 'said', 'wall', 'aperture', '.'], ['~~', '1', '.', 'A', 'whirlpool', 'jet', 'assembly', 'comprising', ';', 'Venturi', 'housing', 'water', 'inlet', 'air', 'inlet', 'generating', 'stream', 'mixed', 'water', 'air', 'aperture', 'wall', 'water-holding', 'enclosure', ';', 'non-rotatable', 'nozzle', 'tube', 'eyeball', 'positioned', 'concentrically', 'within', 'said', 'housing', 'fluid', 'communication', 'said', 'water', 'inlet', 'said', 'air', 'inlet', 'directing', 'said', 'stream', 'said', 'nozzle', 'tube', 'said', 'aperture', 'direction', 'determined', 'orientation', 'said', 'eyeball', ';', 'rotary', 'assembly', 'engaging', 'said', 'nozzle', 'tube', 'releasable', 'manner', 'selective', 'conversion', 'said', 'whirlpool', 'jet', 'assembly', 'rotary', 'configuration', 'directable', 'stationary', 'configuration', ',', 'said', 'rotary', 'assembly', 'said', 'rotary', 'configuration', 'concentrically', 'engaging', 'said', 'nozzle', 'tube', 'plurality', 'canted', 'apertures', 'passing', 'said', 'stream', 'generating', 'rotational', 'spin', 'said', 'rotary', 'assembly', 'spraying', 'water', 'air', 'circular', 'pattern', ',', 'said', 'rotary', 'assembly', 'said', 'directable', 'stationary', 'configuration', 'removed', 'said', 'nozzle', 'tube', '.', '2', '.', 'The', 'whirlpool', 'jet', 'assembly', 'recited', 'claim', '1', 'wherein', 'said', 'rotary', 'assembly', 'comprises', 'plurality', 'lugs', 'engaging', 'said', 'nozzle', 'tube', '.', '3', '.', 'The', 'whirlpool', 'jet', 'assembly', 'recited', 'claim', '1', 'wherein', 'said', 'rotary', 'assembly', 'comprises', 'divider', 'dividing', 'said', 'stream', 'respective', 'ones', 'said', 'canted', 'apertures', '.', '4', '.', 'The', 'whirlpool', 'jet', 'assembly', 'recited', 'claim', '1', 'comprising', 'flow', 'control', 'means', 'adjusting', 'amount', 'water', 'air', 'flowing', 'said', 'nozzle', 'tube', '.', '5', '.', 'The', 'whirlpool', 'jet', 'assembly', 'recited', 'claim', '1', 'upon', 'removal', 'said', 'rotary', 'assembly', ',', 'said', 'nozzle', 'tube', 'said', 'eyeball', 'may', 'oriented', 'selected', 'angle', 'relative', 'said', 'wall', 'aperture', '.', '6', '.', 'The', 'jet', 'assembly', 'recited', 'claim', '1', 'comprising', 'means', 'engaging', 'opposite', 'surfaces', 'water-holding', 'enclosure', 'perimeter', 'hole', 'said', 'enclosure', '.', '7', '.', 'A', 'whirlpool', 'jet', 'assembly', 'selectively', 'convertible', 'first', 'second', 'configurations', 'comprising', 'articulatable', 'non-rotating', 'nozzle', 'removable', 'rotary', 'face', ',', 'said', 'rotary', 'face', 'said', 'first', 'configuration', 'operably', 'coupled', 'said', 'nozzle', 'operation', 'said', 'whirlpool', 'jet', 'assembly', 'rotary', 'mode', ',', 'said', 'second', 'configuration', 'removed', 'said', 'nozzle', 'operation', 'said', 'whirlpool', 'jet', 'assembly', 'directable', 'stationary', 'mode', ',', 'nozzle', 'articulatable', 'directing', 'stream', 'water', 'air', 'selected', 'spot', ',', 'rotary', 'face', 'rotation', 'apertures', 'directing', 'stream', 'water', 'air', 'region', ',', 'said', 'rotary', 'face', 'fluid', 'communication', 'said', 'nozzle', 'rotating', 'said', 'rotating', 'apertures', 'response', 'water', 'air', 'flow', 'said', 'nozzle', ',', 'said', 'nozzle', 'articulatable', 'upon', 'removal', 'said', 'rotary', 'face', 'said', 'whirlpool', 'jet', 'assembly', '.', '8', '.', 'The', 'jet', 'assembly', 'recited', 'claim', '7', 'wherein', 'said', 'rotary', 'face', 'attached', 'said', 'nozzle', 'plurality', 'lugs', 'engage', 'end', 'said', 'nozzle', '.', '9', '.', 'The', 'jet', 'assembly', 'recited', 'claim', '7', 'wherein', 'said', 'rotary', 'face', 'comprises', 'divider', 'dividing', 'said', 'stream', 'water', 'air', 'separated', 'streams', 'flow', 'respective', 'rotating', 'apertures', 'impart', 'rotational', 'torque', 'said', 'rotary', 'face', '.', '10', '.', 'The', 'whirlpool', 'jet', 'assembly', 'recited', 'claim', '7', 'comprising', 'flow', 'control', 'means', 'adjusting', 'amount', 'water', 'air', 'flowing', 'said', 'nozzle', '.', '11', '.', 'The', 'jet', 'assembly', 'recited', 'claim', '7', 'comprising', 'means', 'engaging', 'opposite', 'surfaces', 'water-holding', 'enclosure', 'perimeter', 'hole', 'said', 'enclosure', '.', '12', '.', 'The', 'whirlpool', 'jet', 'assembly', 'recited', 'claim', '7', 'upon', 'removal', 'said', 'rotary', 'assembly', ',', 'said', 'nozzle', 'tube', 'said', 'eyeball', 'may', 'oriented', 'selected', 'angle', 'relative', 'said', 'wall', 'aperture', '.'], ['~~', '1', '.', 'A', 'whirlpool', 'jet', 'assembly', 'comprising', ';', 'Venturi', 'housing', 'water', 'inlet', 'air', 'inlet', 'generating', 'stream', 'mixed', 'water', 'air', 'aperture', 'wall', 'water-holding', 'enclosure', ';', 'non-rotatable', 'nozzle', 'tube', 'eyeball', 'positioned', 'concentrically', 'within', 'said', 'housing', 'fluid', 'communication', 'said', 'water', 'inlet', 'said', 'air', 'inlet', 'directing', 'said', 'stream', 'said', 'nozzle', 'tube', 'said', 'aperture', 'direction', 'determined', 'orientation', 'said', 'eyeball', ';', 'rotary', 'assembly', 'engaging', 'said', 'nozzle', 'tube', 'releasable', 'manner', 'selective', 'conversion', 'said', 'whirlpool', 'jet', 'assembly', 'rotary', 'configuration', 'directable', 'stationary', 'configuration', ',', 'said', 'rotary', 'assembly', 'said', 'rotary', 'configuration', 'concentrically', 'engaging', 'said', 'nozzle', 'tube', 'plurality', 'canted', 'apertures', 'passing', 'said', 'stream', 'generating', 'rotational', 'spin', 'said', 'rotary', 'assembly', 'spraying', 'water', 'air', 'circular', 'pattern', ',', 'said', 'rotary', 'assembly', 'said', 'directable', 'stationary', 'configuration', 'removed', 'said', 'nozzle', 'tube', '.', '2', '.', 'The', 'whirlpool', 'jet', 'assembly', 'recited', 'claim', '1', 'wherein', 'said', 'rotary', 'assembly', 'comprises', 'plurality', 'lugs', 'engaging', 'said', 'nozzle', 'tube', '.', '3', '.', 'The', 'whirlpool', 'jet', 'assembly', 'recited', 'claim', '1', 'wherein', 'said', 'rotary', 'assembly', 'comprises', 'divider', 'dividing', 'said', 'stream', 'respective', 'ones', 'said', 'canted', 'apertures', '.', '4', '.', 'The', 'whirlpool', 'jet', 'assembly', 'recited', 'claim', '1', 'comprising', 'flow', 'control', 'means', 'adjusting', 'amount', 'water', 'air', 'flowing', 'said', 'nozzle', 'tube', '.', '5', '.', 'The', 'whirlpool', 'jet', 'assembly', 'recited', 'claim', '1', 'upon', 'removal', 'said', 'rotary', 'assembly', ',', 'said', 'nozzle', 'tube', 'said', 'eyeball', 'may', 'oriented', 'selected', 'angle', 'relative', 'said', 'wall', 'aperture', '.', '6', '.', 'The', 'jet', 'assembly', 'recited', 'claim', '1', 'comprising', 'means', 'engaging', 'opposite', 'surfaces', 'water-holding', 'enclosure', 'perimeter', 'hole', 'said', 'enclosure', '.', '7', '.', 'A', 'whirlpool', 'jet', 'assembly', 'selectively', 'convertible', 'first', 'second', 'configurations', 'comprising', 'articulatable', 'non-rotating', 'nozzle', 'removable', 'rotary', 'face', ',', 'said', 'rotary', 'face', 'said', 'first', 'configuration', 'operably', 'coupled', 'said', 'nozzle', 'operation', 'said', 'whirlpool', 'jet', 'assembly', 'rotary', 'mode', ',', 'said', 'second', 'configuration', 'removed', 'said', 'nozzle', 'operation', 'said', 'whirlpool', 'jet', 'assembly', 'directable', 'stationary', 'mode', ',', 'nozzle', 'articulatable', 'directing', 'stream', 'water', 'air', 'selected', 'spot', ',', 'rotary', 'face', 'rotation', 'apertures', 'directing', 'stream', 'water', 'air', 'region', ',', 'said', 'rotary', 'face', 'fluid', 'communication', 'said', 'nozzle', 'rotating', 'said', 'rotating', 'apertures', 'response', 'water', 'air', 'flow', 'said', 'nozzle', ',', 'said', 'nozzle', 'articulatable', 'upon', 'removal', 'said', 'rotary', 'face', 'said', 'whirlpool', 'jet', 'assembly', '.', '8', '.', 'The', 'jet', 'assembly', 'recited', 'claim', '7', 'wherein', 'said', 'rotary', 'face', 'attached', 'said', 'nozzle', 'plurality', 'lugs', 'engage', 'end', 'said', 'nozzle', '.', '9', '.', 'The', 'jet', 'assembly', 'recited', 'claim', '7', 'wherein', 'said', 'rotary', 'face', 'comprises', 'divider', 'dividing', 'said', 'stream', 'water', 'air', 'separated', 'streams', 'flow', 'respective', 'rotating', 'apertures', 'impart', 'rotational', 'torque', 'said', 'rotary', 'face', '.', '10', '.', 'The', 'whirlpool', 'jet', 'assembly', 'recited', 'claim', '7', 'comprising', 'flow', 'control', 'means', 'adjusting', 'amount', 'water', 'air', 'flowing', 'said', 'nozzle', '.', '11', '.', 'The', 'jet', 'assembly', 'recited', 'claim', '7', 'comprising', 'means', 'engaging', 'opposite', 'surfaces', 'water-holding', 'enclosure', 'perimeter', 'hole', 'said', 'enclosure', '.', '12', '.', 'The', 'whirlpool', 'jet', 'assembly', 'recited', 'claim', '7', 'upon', 'removal', 'said', 'rotary', 'assembly', ',', 'said', 'nozzle', 'tube', 'said', 'eyeball', 'may', 'oriented', 'selected', 'angle', 'relative', 'said', 'wall', 'aperture', '.'], ['~~', '1', '.', 'A', 'whirlpool', 'jet', 'assembly', 'comprising', ';', 'Venturi', 'housing', 'water', 'inlet', 'air', 'inlet', 'generating', 'stream', 'mixed', 'water', 'air', 'aperture', 'wall', 'water-holding', 'enclosure', ';', 'non-rotatable', 'nozzle', 'tube', 'eyeball', 'positioned', 'concentrically', 'within', 'said', 'housing', 'fluid', 'communication', 'said', 'water', 'inlet', 'said', 'air', 'inlet', 'directing', 'said', 'stream', 'said', 'nozzle', 'tube', 'said', 'aperture', 'direction', 'determined', 'orientation', 'said', 'eyeball', ';', 'rotary', 'assembly', 'engaging', 'said', 'nozzle', 'tube', 'releasable', 'manner', 'selective', 'conversion', 'said', 'whirlpool', 'jet', 'assembly', 'rotary', 'configuration', 'directable', 'stationary', 'configuration', ',', 'said', 'rotary', 'assembly', 'said', 'rotary', 'configuration', 'concentrically', 'engaging', 'said', 'nozzle', 'tube', 'plurality', 'canted', 'apertures', 'passing', 'said', 'stream', 'generating', 'rotational', 'spin', 'said', 'rotary', 'assembly', 'spraying', 'water', 'air', 'circular', 'pattern', ',', 'said', 'rotary', 'assembly', 'said', 'directable', 'stationary', 'configuration', 'removed', 'said', 'nozzle', 'tube', '.', '2', '.', 'The', 'whirlpool', 'jet', 'assembly', 'recited', 'claim', '1', 'wherein', 'said', 'rotary', 'assembly', 'comprises', 'plurality', 'lugs', 'engaging', 'said', 'nozzle', 'tube', '.', '3', '.', 'The', 'whirlpool', 'jet', 'assembly', 'recited', 'claim', '1', 'wherein', 'said', 'rotary', 'assembly', 'comprises', 'divider', 'dividing', 'said', 'stream', 'respective', 'ones', 'said', 'canted', 'apertures', '.', '4', '.', 'The', 'whirlpool', 'jet', 'assembly', 'recited', 'claim', '1', 'comprising', 'flow', 'control', 'means', 'adjusting', 'amount', 'water', 'air', 'flowing', 'said', 'nozzle', 'tube', '.', '5', '.', 'The', 'whirlpool', 'jet', 'assembly', 'recited', 'claim', '1', 'upon', 'removal', 'said', 'rotary', 'assembly', ',', 'said', 'nozzle', 'tube', 'said', 'eyeball', 'may', 'oriented', 'selected', 'angle', 'relative', 'said', 'wall', 'aperture', '.', '6', '.', 'The', 'jet', 'assembly', 'recited', 'claim', '1', 'comprising', 'means', 'engaging', 'opposite', 'surfaces', 'water-holding', 'enclosure', 'perimeter', 'hole', 'said', 'enclosure', '.', '7', '.', 'A', 'whirlpool', 'jet', 'assembly', 'selectively', 'convertible', 'first', 'second', 'configurations', 'comprising', 'articulatable', 'non-rotating', 'nozzle', 'removable', 'rotary', 'face', ',', 'said', 'rotary', 'face', 'said', 'first', 'configuration', 'operably', 'coupled', 'said', 'nozzle', 'operation', 'said', 'whirlpool', 'jet', 'assembly', 'rotary', 'mode', ',', 'said', 'second', 'configuration', 'removed', 'said', 'nozzle', 'operation', 'said', 'whirlpool', 'jet', 'assembly', 'directable', 'stationary', 'mode', ',', 'nozzle', 'articulatable', 'directing', 'stream', 'water', 'air', 'selected', 'spot', ',', 'rotary', 'face', 'rotation', 'apertures', 'directing', 'stream', 'water', 'air', 'region', ',', 'said', 'rotary', 'face', 'fluid', 'communication', 'said', 'nozzle', 'rotating', 'said', 'rotating', 'apertures', 'response', 'water', 'air', 'flow', 'said', 'nozzle', ',', 'said', 'nozzle', 'articulatable', 'upon', 'removal', 'said', 'rotary', 'face', 'said', 'whirlpool', 'jet', 'assembly', '.', '8', '.', 'The', 'jet', 'assembly', 'recited', 'claim', '7', 'wherein', 'said', 'rotary', 'face', 'attached', 'said', 'nozzle', 'plurality', 'lugs', 'engage', 'end', 'said', 'nozzle', '.', '9', '.', 'The', 'jet', 'assembly', 'recited', 'claim', '7', 'wherein', 'said', 'rotary', 'face', 'comprises', 'divider', 'dividing', 'said', 'stream', 'water', 'air', 'separated', 'streams', 'flow', 'respective', 'rotating', 'apertures', 'impart', 'rotational', 'torque', 'said', 'rotary', 'face', '.', '10', '.', 'The', 'whirlpool', 'jet', 'assembly', 'recited', 'claim', '7', 'comprising', 'flow', 'control', 'means', 'adjusting', 'amount', 'water', 'air', 'flowing', 'said', 'nozzle', '.', '11', '.', 'The', 'jet', 'assembly', 'recited', 'claim', '7', 'comprising', 'means', 'engaging', 'opposite', 'surfaces', 'water-holding', 'enclosure', 'perimeter', 'hole', 'said', 'enclosure', '.', '12', '.', 'The', 'whirlpool', 'jet', 'assembly', 'recited', 'claim', '7', 'upon', 'removal', 'said', 'rotary', 'assembly', ',', 'said', 'nozzle', 'tube', 'said', 'eyeball', 'may', 'oriented', 'selected', 'angle', 'relative', 'said', 'wall', 'aperture', '.']]\n"
       ]
      }
     ],
     "prompt_number": 49
    },
    {
     "cell_type": "code",
     "collapsed": false,
     "input": [
      "dictionary = corpora.Dictionary(texts)\n",
      "print(dictionary)"
     ],
     "language": "python",
     "metadata": {},
     "outputs": [
      {
       "output_type": "stream",
       "stream": "stdout",
       "text": [
        "Dictionary(118 unique tokens: [u'rotating', u'Venturi', u'1', u'inlet', u'dividing']...)\n"
       ]
      }
     ],
     "prompt_number": 50
    },
    {
     "cell_type": "code",
     "collapsed": false,
     "input": [
      "print(dictionary.token2id)"
     ],
     "language": "python",
     "metadata": {},
     "outputs": [
      {
       "output_type": "stream",
       "stream": "stdout",
       "text": [
        "{u'rotating': 92, u'Venturi': 17, u'1': 2, u'inlet': 60, u'dividing': 45, u',': 0, u'removal': 87, u'4': 8, u'removable': 86, u'8': 12, u'whirlpool': 115, u'articulatable': 24, u'means': 65, u'impart': 59, u'fluid': 55, u'spraying': 103, u'ones': 71, u'canted': 27, u'rotation': 93, u'comprising': 32, u'mode': 67, u'stationary': 104, u'configurations': 35, u'A': 15, u'directing': 42, u'10': 3, u'engaging': 49, u'second': 96, u'operation': 73, u'enclosure': 46, u'surfaces': 107, u'said': 95, u'pattern': 78, u'tube': 109, u'selected': 97, u'3': 7, u'7': 11, u'flowing': 54, u';': 14, u'assembly': 25, u'upon': 110, u'releasable': 85, u'selective': 98, u'selectively': 99, u'convertible': 38, u'configuration': 34, u'water': 112, u'engage': 48, u'region': 83, u'eyeball': 50, u'recited': 82, u'amount': 20, u'streams': 106, u'mixed': 66, u'passing': 77, u'first': 52, u'wall': 111, u'communication': 30, u'within': 116, u'plurality': 80, u'comprises': 31, u'concentrically': 33, u'~~': 117, u'jet': 61, u'housing': 58, u'.': 1, u'2': 6, u'water-holding': 113, u'6': 10, u'aperture': 22, u'separated': 100, u'generating': 56, u'non-rotatable': 68, u'positioned': 81, u'adjusting': 18, u'operably': 72, u'hole': 57, u'removed': 88, u'spin': 101, u'11': 4, u'relative': 84, u'12': 5, u'lugs': 62, u'attached': 26, u'air': 19, u'determined': 40, u'control': 36, u'claim': 29, u'orientation': 75, u'stream': 105, u'coupled': 39, u'nozzle': 70, u'torque': 108, u'direction': 43, u'manner': 63, u'conversion': 37, u'angle': 21, u'wherein': 114, u'oriented': 76, u'directable': 41, u'5': 9, u'9': 13, u'divider': 44, u'circular': 28, u'perimeter': 79, u'opposite': 74, u'may': 64, u'spot': 102, u'respective': 89, u'non-rotating': 69, u'end': 47, u'The': 16, u'response': 90, u'apertures': 23, u'rotational': 94, u'flow': 53, u'rotary': 91, u'face': 51}\n"
       ]
      }
     ],
     "prompt_number": 51
    },
    {
     "cell_type": "code",
     "collapsed": false,
     "input": [
      "corpus = [dictionary.doc2bow(text) for text in texts]\n",
      "print(corpus)"
     ],
     "language": "python",
     "metadata": {},
     "outputs": [
      {
       "output_type": "stream",
       "stream": "stdout",
       "text": [
        "[[(0, 10), (1, 24), (2, 6), (3, 1), (4, 1), (5, 1), (6, 1), (7, 1), (8, 1), (9, 1), (10, 1), (11, 6), (12, 1), (13, 1), (14, 3), (15, 2), (16, 10), (17, 1), (18, 2), (19, 10), (20, 2), (21, 2), (22, 4), (23, 5), (24, 3), (25, 24), (26, 1), (27, 2), (28, 1), (29, 10), (30, 2), (31, 3), (32, 6), (33, 2), (34, 6), (35, 1), (36, 2), (37, 1), (38, 1), (39, 1), (40, 1), (41, 3), (42, 3), (43, 1), (44, 2), (45, 2), (46, 5), (47, 1), (48, 1), (49, 5), (50, 4), (51, 8), (52, 2), (53, 4), (54, 2), (55, 2), (56, 2), (57, 2), (58, 2), (59, 1), (60, 4), (61, 16), (62, 2), (63, 1), (64, 2), (65, 4), (66, 1), (67, 2), (68, 1), (69, 1), (70, 19), (71, 1), (72, 1), (73, 2), (74, 2), (75, 1), (76, 2), (77, 1), (78, 1), (79, 2), (80, 3), (81, 1), (82, 10), (83, 1), (84, 2), (85, 1), (86, 1), (87, 3), (88, 2), (89, 2), (90, 1), (91, 19), (92, 3), (93, 1), (94, 2), (95, 54), (96, 2), (97, 3), (98, 1), (99, 1), (100, 1), (101, 1), (102, 1), (103, 1), (104, 3), (105, 7), (106, 1), (107, 2), (108, 1), (109, 9), (110, 3), (111, 3), (112, 10), (113, 3), (114, 4), (115, 12), (116, 1), (117, 1)], [(0, 10), (1, 24), (2, 6), (3, 1), (4, 1), (5, 1), (6, 1), (7, 1), (8, 1), (9, 1), (10, 1), (11, 6), (12, 1), (13, 1), (14, 3), (15, 2), (16, 10), (17, 1), (18, 2), (19, 10), (20, 2), (21, 2), (22, 4), (23, 5), (24, 3), (25, 24), (26, 1), (27, 2), (28, 1), (29, 10), (30, 2), (31, 3), (32, 6), (33, 2), (34, 6), (35, 1), (36, 2), (37, 1), (38, 1), (39, 1), (40, 1), (41, 3), (42, 3), (43, 1), (44, 2), (45, 2), (46, 5), (47, 1), (48, 1), (49, 5), (50, 4), (51, 8), (52, 2), (53, 4), (54, 2), (55, 2), (56, 2), (57, 2), (58, 2), (59, 1), (60, 4), (61, 16), (62, 2), (63, 1), (64, 2), (65, 4), (66, 1), (67, 2), (68, 1), (69, 1), (70, 19), (71, 1), (72, 1), (73, 2), (74, 2), (75, 1), (76, 2), (77, 1), (78, 1), (79, 2), (80, 3), (81, 1), (82, 10), (83, 1), (84, 2), (85, 1), (86, 1), (87, 3), (88, 2), (89, 2), (90, 1), (91, 19), (92, 3), (93, 1), (94, 2), (95, 54), (96, 2), (97, 3), (98, 1), (99, 1), (100, 1), (101, 1), (102, 1), (103, 1), (104, 3), (105, 7), (106, 1), (107, 2), (108, 1), (109, 9), (110, 3), (111, 3), (112, 10), (113, 3), (114, 4), (115, 12), (116, 1), (117, 1)], [(0, 10), (1, 24), (2, 6), (3, 1), (4, 1), (5, 1), (6, 1), (7, 1), (8, 1), (9, 1), (10, 1), (11, 6), (12, 1), (13, 1), (14, 3), (15, 2), (16, 10), (17, 1), (18, 2), (19, 10), (20, 2), (21, 2), (22, 4), (23, 5), (24, 3), (25, 24), (26, 1), (27, 2), (28, 1), (29, 10), (30, 2), (31, 3), (32, 6), (33, 2), (34, 6), (35, 1), (36, 2), (37, 1), (38, 1), (39, 1), (40, 1), (41, 3), (42, 3), (43, 1), (44, 2), (45, 2), (46, 5), (47, 1), (48, 1), (49, 5), (50, 4), (51, 8), (52, 2), (53, 4), (54, 2), (55, 2), (56, 2), (57, 2), (58, 2), (59, 1), (60, 4), (61, 16), (62, 2), (63, 1), (64, 2), (65, 4), (66, 1), (67, 2), (68, 1), (69, 1), (70, 19), (71, 1), (72, 1), (73, 2), (74, 2), (75, 1), (76, 2), (77, 1), (78, 1), (79, 2), (80, 3), (81, 1), (82, 10), (83, 1), (84, 2), (85, 1), (86, 1), (87, 3), (88, 2), (89, 2), (90, 1), (91, 19), (92, 3), (93, 1), (94, 2), (95, 54), (96, 2), (97, 3), (98, 1), (99, 1), (100, 1), (101, 1), (102, 1), (103, 1), (104, 3), (105, 7), (106, 1), (107, 2), (108, 1), (109, 9), (110, 3), (111, 3), (112, 10), (113, 3), (114, 4), (115, 12), (116, 1), (117, 1)], [(0, 10), (1, 24), (2, 6), (3, 1), (4, 1), (5, 1), (6, 1), (7, 1), (8, 1), (9, 1), (10, 1), (11, 6), (12, 1), (13, 1), (14, 3), (15, 2), (16, 10), (17, 1), (18, 2), (19, 10), (20, 2), (21, 2), (22, 4), (23, 5), (24, 3), (25, 24), (26, 1), (27, 2), (28, 1), (29, 10), (30, 2), (31, 3), (32, 6), (33, 2), (34, 6), (35, 1), (36, 2), (37, 1), (38, 1), (39, 1), (40, 1), (41, 3), (42, 3), (43, 1), (44, 2), (45, 2), (46, 5), (47, 1), (48, 1), (49, 5), (50, 4), (51, 8), (52, 2), (53, 4), (54, 2), (55, 2), (56, 2), (57, 2), (58, 2), (59, 1), (60, 4), (61, 16), (62, 2), (63, 1), (64, 2), (65, 4), (66, 1), (67, 2), (68, 1), (69, 1), (70, 19), (71, 1), (72, 1), (73, 2), (74, 2), (75, 1), (76, 2), (77, 1), (78, 1), (79, 2), (80, 3), (81, 1), (82, 10), (83, 1), (84, 2), (85, 1), (86, 1), (87, 3), (88, 2), (89, 2), (90, 1), (91, 19), (92, 3), (93, 1), (94, 2), (95, 54), (96, 2), (97, 3), (98, 1), (99, 1), (100, 1), (101, 1), (102, 1), (103, 1), (104, 3), (105, 7), (106, 1), (107, 2), (108, 1), (109, 9), (110, 3), (111, 3), (112, 10), (113, 3), (114, 4), (115, 12), (116, 1), (117, 1)], [(0, 10), (1, 24), (2, 6), (3, 1), (4, 1), (5, 1), (6, 1), (7, 1), (8, 1), (9, 1), (10, 1), (11, 6), (12, 1), (13, 1), (14, 3), (15, 2), (16, 10), (17, 1), (18, 2), (19, 10), (20, 2), (21, 2), (22, 4), (23, 5), (24, 3), (25, 24), (26, 1), (27, 2), (28, 1), (29, 10), (30, 2), (31, 3), (32, 6), (33, 2), (34, 6), (35, 1), (36, 2), (37, 1), (38, 1), (39, 1), (40, 1), (41, 3), (42, 3), (43, 1), (44, 2), (45, 2), (46, 5), (47, 1), (48, 1), (49, 5), (50, 4), (51, 8), (52, 2), (53, 4), (54, 2), (55, 2), (56, 2), (57, 2), (58, 2), (59, 1), (60, 4), (61, 16), (62, 2), (63, 1), (64, 2), (65, 4), (66, 1), (67, 2), (68, 1), (69, 1), (70, 19), (71, 1), (72, 1), (73, 2), (74, 2), (75, 1), (76, 2), (77, 1), (78, 1), (79, 2), (80, 3), (81, 1), (82, 10), (83, 1), (84, 2), (85, 1), (86, 1), (87, 3), (88, 2), (89, 2), (90, 1), (91, 19), (92, 3), (93, 1), (94, 2), (95, 54), (96, 2), (97, 3), (98, 1), (99, 1), (100, 1), (101, 1), (102, 1), (103, 1), (104, 3), (105, 7), (106, 1), (107, 2), (108, 1), (109, 9), (110, 3), (111, 3), (112, 10), (113, 3), (114, 4), (115, 12), (116, 1), (117, 1)]]\n"
       ]
      }
     ],
     "prompt_number": 57
    },
    {
     "cell_type": "code",
     "collapsed": false,
     "input": [
      "lda = gensim.models.ldamodel.LdaModel(corpus, num_topics=10, id2word=dictionary, passes=20)\n",
      "print lda.show_topics()"
     ],
     "language": "python",
     "metadata": {},
     "outputs": [
      {
       "output_type": "stream",
       "stream": "stdout",
       "text": [
        "[u'0.008*~~ + 0.008*mixed + 0.008*response + 0.008*engage + 0.008*circular + 0.008*manner + 0.008*removable + 0.008*releasable + 0.008*end + 0.008*region', u'0.117*said + 0.052*assembly + 0.052*. + 0.041*nozzle + 0.041*rotary + 0.035*jet + 0.026*whirlpool + 0.022*claim + 0.022*The + 0.022*recited', u'0.008*~~ + 0.008*mixed + 0.008*response + 0.008*engage + 0.008*circular + 0.008*manner + 0.008*removable + 0.008*releasable + 0.008*end + 0.008*region', u'0.008*~~ + 0.008*mixed + 0.008*response + 0.008*engage + 0.008*circular + 0.008*manner + 0.008*removable + 0.008*releasable + 0.008*end + 0.008*region', u'0.008*~~ + 0.008*mixed + 0.008*response + 0.008*engage + 0.008*circular + 0.008*manner + 0.008*removable + 0.008*releasable + 0.008*end + 0.008*region', u'0.008*~~ + 0.008*mixed + 0.008*response + 0.008*engage + 0.008*circular + 0.008*manner + 0.008*removable + 0.008*releasable + 0.008*end + 0.008*region', u'0.008*~~ + 0.008*mixed + 0.008*response + 0.008*engage + 0.008*circular + 0.008*manner + 0.008*removable + 0.008*releasable + 0.008*end + 0.008*region', u'0.008*~~ + 0.008*mixed + 0.008*response + 0.008*engage + 0.008*circular + 0.008*manner + 0.008*removable + 0.008*releasable + 0.008*end + 0.008*region', u'0.008*~~ + 0.008*mixed + 0.008*response + 0.008*engage + 0.008*circular + 0.008*manner + 0.008*removable + 0.008*releasable + 0.008*end + 0.008*region', u'0.008*~~ + 0.008*mixed + 0.008*response + 0.008*engage + 0.008*circular + 0.008*manner + 0.008*removable + 0.008*releasable + 0.008*end + 0.008*region']\n"
       ]
      }
     ],
     "prompt_number": 68
    },
    {
     "cell_type": "code",
     "collapsed": false,
     "input": [
      "# TF IDF"
     ],
     "language": "python",
     "metadata": {},
     "outputs": []
    },
    {
     "cell_type": "markdown",
     "metadata": {},
     "source": [
      "1) Run LDA on a sample set\n",
      "2) Build a toy data set (3-5 docs) of text docs and relationships between the text docs\n",
      "3) Calculate the jargon distance between documents using the method in the Jargon Paper\n",
      "4) Calculate the jargon distance between docs using my own method (could be LDA)\n",
      "5) Comepare methods in 1-2 pg. paper"
     ]
    }
   ],
   "metadata": {}
  }
 ]
}